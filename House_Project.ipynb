{
 "cells": [
  {
   "cell_type": "code",
   "execution_count": 1,
   "id": "53aaaa6a",
   "metadata": {},
   "outputs": [],
   "source": [
    "import pandas as pd\n",
    "import matplotlib.pyplot as plt\n",
    "import seaborn as sns\n",
    "import numpy as np\n",
    "from pandas.plotting import register_matplotlib_converters\n",
    "register_matplotlib_converters()\n",
    "# !pip install missingno\n",
    "import missingno as msno\n",
    "import matplotlib as mpl\n",
    "from statsmodels.tsa.seasonal import STL, seasonal_decompose\n",
    "from statsmodels.graphics.tsaplots import plot_acf, plot_pacf"
   ]
  },
  {
   "cell_type": "code",
   "execution_count": 2,
   "id": "8aae57b3",
   "metadata": {},
   "outputs": [],
   "source": [
    "mpl.rcParams['axes.titlesize'] = 20\n",
    "mpl.rcParams['axes.labelsize'] = 18\n",
    "mpl.rcParams['figure.figsize'] = [25, 10]\n"
   ]
  },
  {
   "cell_type": "code",
   "execution_count": 3,
   "id": "a102a78b",
   "metadata": {},
   "outputs": [],
   "source": [
    "df = pd.read_csv('household_power_consumption.txt',sep = ';',\n",
    "                parse_dates={'dt':['Date','Time']},\n",
    "                infer_datetime_format=True,\n",
    "                low_memory=False, na_values=['nan','?'],\n",
    "                index_col='dt')"
   ]
  },
  {
   "cell_type": "code",
   "execution_count": 4,
   "id": "11b040f3",
   "metadata": {},
   "outputs": [
    {
     "data": {
      "text/plain": [
       "(2075259, 7)"
      ]
     },
     "execution_count": 4,
     "metadata": {},
     "output_type": "execute_result"
    }
   ],
   "source": [
    "df.shape"
   ]
  },
  {
   "cell_type": "code",
   "execution_count": 5,
   "id": "d3117431",
   "metadata": {},
   "outputs": [
    {
     "data": {
      "text/html": [
       "<div>\n",
       "<style scoped>\n",
       "    .dataframe tbody tr th:only-of-type {\n",
       "        vertical-align: middle;\n",
       "    }\n",
       "\n",
       "    .dataframe tbody tr th {\n",
       "        vertical-align: top;\n",
       "    }\n",
       "\n",
       "    .dataframe thead th {\n",
       "        text-align: right;\n",
       "    }\n",
       "</style>\n",
       "<table border=\"1\" class=\"dataframe\">\n",
       "  <thead>\n",
       "    <tr style=\"text-align: right;\">\n",
       "      <th></th>\n",
       "      <th>Global_active_power</th>\n",
       "      <th>Global_reactive_power</th>\n",
       "      <th>Voltage</th>\n",
       "      <th>Global_intensity</th>\n",
       "      <th>Sub_metering_1</th>\n",
       "      <th>Sub_metering_2</th>\n",
       "      <th>Sub_metering_3</th>\n",
       "    </tr>\n",
       "    <tr>\n",
       "      <th>dt</th>\n",
       "      <th></th>\n",
       "      <th></th>\n",
       "      <th></th>\n",
       "      <th></th>\n",
       "      <th></th>\n",
       "      <th></th>\n",
       "      <th></th>\n",
       "    </tr>\n",
       "  </thead>\n",
       "  <tbody>\n",
       "    <tr>\n",
       "      <th>2006-12-16 17:24:00</th>\n",
       "      <td>4.216</td>\n",
       "      <td>0.418</td>\n",
       "      <td>234.84</td>\n",
       "      <td>18.4</td>\n",
       "      <td>0.0</td>\n",
       "      <td>1.0</td>\n",
       "      <td>17.0</td>\n",
       "    </tr>\n",
       "    <tr>\n",
       "      <th>2006-12-16 17:25:00</th>\n",
       "      <td>5.360</td>\n",
       "      <td>0.436</td>\n",
       "      <td>233.63</td>\n",
       "      <td>23.0</td>\n",
       "      <td>0.0</td>\n",
       "      <td>1.0</td>\n",
       "      <td>16.0</td>\n",
       "    </tr>\n",
       "    <tr>\n",
       "      <th>2006-12-16 17:26:00</th>\n",
       "      <td>5.374</td>\n",
       "      <td>0.498</td>\n",
       "      <td>233.29</td>\n",
       "      <td>23.0</td>\n",
       "      <td>0.0</td>\n",
       "      <td>2.0</td>\n",
       "      <td>17.0</td>\n",
       "    </tr>\n",
       "    <tr>\n",
       "      <th>2006-12-16 17:27:00</th>\n",
       "      <td>5.388</td>\n",
       "      <td>0.502</td>\n",
       "      <td>233.74</td>\n",
       "      <td>23.0</td>\n",
       "      <td>0.0</td>\n",
       "      <td>1.0</td>\n",
       "      <td>17.0</td>\n",
       "    </tr>\n",
       "    <tr>\n",
       "      <th>2006-12-16 17:28:00</th>\n",
       "      <td>3.666</td>\n",
       "      <td>0.528</td>\n",
       "      <td>235.68</td>\n",
       "      <td>15.8</td>\n",
       "      <td>0.0</td>\n",
       "      <td>1.0</td>\n",
       "      <td>17.0</td>\n",
       "    </tr>\n",
       "  </tbody>\n",
       "</table>\n",
       "</div>"
      ],
      "text/plain": [
       "                     Global_active_power  Global_reactive_power  Voltage  \\\n",
       "dt                                                                         \n",
       "2006-12-16 17:24:00                4.216                  0.418   234.84   \n",
       "2006-12-16 17:25:00                5.360                  0.436   233.63   \n",
       "2006-12-16 17:26:00                5.374                  0.498   233.29   \n",
       "2006-12-16 17:27:00                5.388                  0.502   233.74   \n",
       "2006-12-16 17:28:00                3.666                  0.528   235.68   \n",
       "\n",
       "                     Global_intensity  Sub_metering_1  Sub_metering_2  \\\n",
       "dt                                                                      \n",
       "2006-12-16 17:24:00              18.4             0.0             1.0   \n",
       "2006-12-16 17:25:00              23.0             0.0             1.0   \n",
       "2006-12-16 17:26:00              23.0             0.0             2.0   \n",
       "2006-12-16 17:27:00              23.0             0.0             1.0   \n",
       "2006-12-16 17:28:00              15.8             0.0             1.0   \n",
       "\n",
       "                     Sub_metering_3  \n",
       "dt                                   \n",
       "2006-12-16 17:24:00            17.0  \n",
       "2006-12-16 17:25:00            16.0  \n",
       "2006-12-16 17:26:00            17.0  \n",
       "2006-12-16 17:27:00            17.0  \n",
       "2006-12-16 17:28:00            17.0  "
      ]
     },
     "execution_count": 5,
     "metadata": {},
     "output_type": "execute_result"
    }
   ],
   "source": [
    "# Display the last 5 rows of the data\n",
    "df.head(5)"
   ]
  },
  {
   "cell_type": "code",
   "execution_count": 6,
   "id": "83352514",
   "metadata": {
    "scrolled": true
   },
   "outputs": [
    {
     "name": "stdout",
     "output_type": "stream",
     "text": [
      "\n",
      "Information about the dataframe:\n",
      "<class 'pandas.core.frame.DataFrame'>\n",
      "DatetimeIndex: 2075259 entries, 2006-12-16 17:24:00 to 2010-11-26 21:02:00\n",
      "Data columns (total 7 columns):\n",
      " #   Column                 Dtype  \n",
      "---  ------                 -----  \n",
      " 0   Global_active_power    float64\n",
      " 1   Global_reactive_power  float64\n",
      " 2   Voltage                float64\n",
      " 3   Global_intensity       float64\n",
      " 4   Sub_metering_1         float64\n",
      " 5   Sub_metering_2         float64\n",
      " 6   Sub_metering_3         float64\n",
      "dtypes: float64(7)\n",
      "memory usage: 126.7 MB\n",
      "None\n"
     ]
    }
   ],
   "source": [
    "# Get the information about the dataframe\n",
    "print(\"\\nInformation about the dataframe:\")\n",
    "print(df.info())"
   ]
  },
  {
   "cell_type": "markdown",
   "id": "05251b2a",
   "metadata": {},
   "source": [
    "we find our target variable, y to be (global_active_power*1000/60 - sub_metering_1 - sub_metering_2 - sub_metering_3)"
   ]
  },
  {
   "cell_type": "code",
   "execution_count": 7,
   "id": "4d5a0da9",
   "metadata": {},
   "outputs": [],
   "source": [
    "df['total_energy_consumption'] = df['Global_active_power']*1000/60 - df['Sub_metering_1'] - df['Sub_metering_2'] - df['Sub_metering_3']"
   ]
  },
  {
   "cell_type": "code",
   "execution_count": 10,
   "id": "57c45f59",
   "metadata": {
    "scrolled": true
   },
   "outputs": [
    {
     "data": {
      "image/png": "[encoded data removed]",
      "text/plain": [
       "<Figure size 1000x800 with 4 Axes>"
      ]
     },
     "metadata": {},
     "output_type": "display_data"
    }
   ],
   "source": [
    "# Define a function to plot the total energy consumption over a given month\n",
    "def plot_monthly_consumption(month, year):\n",
    "  # Filter the data for the given month and year\n",
    "  df_month = df.loc[(df.index.month == month) & (df.index.year == year)]\n",
    "  # Resample the data by week and calculate the mean\n",
    "  df_week = df_month.resample('W').mean()\n",
    "  # Create a subplot with four rows and one column\n",
    "  fig, axes = plt.subplots(4, 1, figsize=(10, 8), sharex=True, sharey=True)\n",
    "  # Loop over the four weeks and plot the data\n",
    "  for i in range(4):\n",
    "    # Get the start and end dates of the week\n",
    "    start = df_week.index[i]\n",
    "    end = df_week.index[i+1]\n",
    "    # Filter the data for the week\n",
    "    df_weekly = df_month.loc[start:end]\n",
    "    # Plot the data on the corresponding axis\n",
    "    axes[i].plot(df_weekly.index, df_weekly['total_energy_consumption'])\n",
    "    # Add a legend with the week number\n",
    "    axes[i].legend([f'Week {i+1}'])\n",
    "  # Add a title with the month and year\n",
    "  fig.suptitle(f'Total energy consumption over {month}/{year}')\n",
    "  # Add a common x-axis label\n",
    "  fig.text(0.5, 0.04, 'Date', ha='center')\n",
    "  # Add a common y-axis label\n",
    "  fig.text(0.04, 0.5, 'Total energy consumption', va='center', rotation='vertical')\n",
    "  # Adjust the spacing between subplots\n",
    "  plt.tight_layout()\n",
    "  # Show the plot\n",
    "  plt.show()\n",
    "\n",
    "# Plot the total energy consumption over January 1981\n",
    "plot_monthly_consumption(7, 2007)\n"
   ]
  },
  {
   "cell_type": "code",
   "execution_count": 14,
   "id": "0e3ddc8c",
   "metadata": {},
   "outputs": [
    {
     "data": {
      "image/png": "[encoded data removed]",
      "text/plain": [
       "<Figure size 1000x400 with 1 Axes>"
      ]
     },
     "metadata": {},
     "output_type": "display_data"
    }
   ],
   "source": [
    "# Define a function to plot the total energy consumption over a given month\n",
    "def plot_monthly_consumption(month, year):\n",
    "  # Filter the data for the given month and year\n",
    "  df_month = df.loc[(df.index.month == month) & (df.index.year == year)]\n",
    "  # Create a single plot with one row and one column\n",
    "  fig, ax = plt.subplots(1, 1, figsize=(10, 4))\n",
    "  # Loop over the four weeks and plot the data on the same axis, with different colors and labels\n",
    "  for i in range(4):\n",
    "    # Get the start and end dates of the week\n",
    "    start = df_month.index[i*7*24]\n",
    "    end = df_month.index[(i+1)*7*24-1]\n",
    "    # Filter the data for the week\n",
    "    df_weekly = df_month.loc[start:end]\n",
    "    # Plot the data on the same axis, with different colors and labels\n",
    "    ax.plot(df_weekly.index, df_weekly['total_energy_consumption'], color=['orange', 'green', 'blue', 'red'][i], label=f'Week {i+1}')\n",
    "  # Add a title with the month and year\n",
    "  fig.suptitle(f'Total energy consumption over {month}/{year}')\n",
    "  # Add a common x-axis label\n",
    "  fig.text(0.5, 0.04, 'Date', ha='center')\n",
    "  # Add a common y-axis label\n",
    "  fig.text(0.04, 0.5, 'Total energy consumption', va='center', rotation='vertical')\n",
    "  # Add a legend\n",
    "  plt.legend()\n",
    "  # Show the plot\n",
    "  plt.show()\n",
    "\n",
    "# Plot the total energy consumption over January 1981\n",
    "plot_monthly_consumption(1, 2007)\n"
   ]
  },
  {
   "cell_type": "code",
   "execution_count": null,
   "id": "a1ad4fb9",
   "metadata": {
    "scrolled": true
   },
   "outputs": [],
   "source": [
    "n = 1\n",
    "plt.subplot(3,1,1)\n",
    "df.iloc[:n*60*24*7, -1].plot()\n",
    "df.iloc[n*60*24*7:n*60*24*7*2, -1].plot()\n",
    "df.iloc[n*60*24*7*2:n*60*24*7*3, -1].plot()\n",
    "df.iloc[n*60*24*7*3:n*60*24*7*4, -1].plot()\n",
    "plt.title(f'Total energy consumption over {n}th month')\n",
    "plt.legend(labels = ['1st week', '2nd week', '3rd week', '4th week']);\n",
    "\n",
    "n = 10\n",
    "plt.subplot(3,1,2)\n",
    "df.iloc[:n*60*24*7, -1].plot()\n",
    "df.iloc[n*60*24*7:n*60*24*7*2, -1].plot()\n",
    "df.iloc[n*60*24*7*2:n*60*24*7*3, -1].plot()\n",
    "df.iloc[n*60*24*7*3:n*60*24*7*4, -1].plot()\n",
    "plt.title(f'Total energy consumption over {n}th month')\n",
    "plt.legend(labels = ['1st week', '2nd week', '3rd week', '4th week']);\n",
    "\n",
    "\n",
    "n = 50\n",
    "plt.subplot(3,1,3)\n",
    "df.iloc[:n*60*24*7, -1].plot()\n",
    "df.iloc[n*60*24*7:n*60*24*7*2, -1].plot()\n",
    "df.iloc[n*60*24*7*2:n*60*24*7*3, -1].plot()\n",
    "df.iloc[n*60*24*7*3:n*60*24*7*4, -1].plot()\n",
    "plt.title(f'Total energy consumption over {n}th month')\n",
    "plt.legend(labels = ['1st week', '2nd week', '3rd week', '4th week']);"
   ]
  },
  {
   "cell_type": "markdown",
   "id": "19e61f7c",
   "metadata": {},
   "source": [
    "This seasonlaity diagram tells us that the seasonality is not weekly. XD\n",
    "\n",
    "Let's try daily"
   ]
  },
  {
   "cell_type": "code",
   "execution_count": null,
   "id": "ce957b43",
   "metadata": {},
   "outputs": [],
   "source": [
    "n = 1\n",
    "plt.subplot(3,1,1)\n",
    "df.iloc[:n*60*24, -1].plot()\n",
    "df.iloc[n*60*24:n*60*24*2, -1].plot()\n",
    "df.iloc[n*60*24*2:n*60*24*3, -1].plot()\n",
    "df.iloc[n*60*24*3:n*60*24*4, -1].plot()\n",
    "df.iloc[n*60*24*4:n*60*24*5, -1].plot()\n",
    "df.iloc[n*60*24*6:n*60*24*7, -1].plot()\n",
    "df.iloc[n*60*24*7:n*60*24*8, -1].plot()\n",
    "plt.title(f'Total energy consumption over {n}th week')\n",
    "plt.legend(loc = 'upper right', labels = ['1st day', '2nd day', '3rd day', '4th day', '5th day', '6th day', '7th day']);\n",
    "\n",
    "n = 50\n",
    "plt.subplot(3,1,2)\n",
    "df.iloc[:n*60*24, -1].plot()\n",
    "df.iloc[n*60*24:n*60*24*2, -1].plot()\n",
    "df.iloc[n*60*24*2:n*60*24*3, -1].plot()\n",
    "df.iloc[n*60*24*3:n*60*24*4, -1].plot()\n",
    "df.iloc[n*60*24*4:n*60*24*5, -1].plot()\n",
    "df.iloc[n*60*24*6:n*60*24*7, -1].plot()\n",
    "df.iloc[n*60*24*7:n*60*24*8, -1].plot()\n",
    "plt.title(f'Total energy consumption over {n}th week')\n",
    "plt.legend(loc = 'upper right', labels = ['1st day', '2nd day', '3rd day', '4th day', '5th day', '6th day', '7th day']);\n",
    "\n",
    "n = 150\n",
    "plt.subplot(3,1,3)\n",
    "df.iloc[:n*60*24, -1].plot()\n",
    "df.iloc[n*60*24:n*60*24*2, -1].plot()\n",
    "df.iloc[n*60*24*2:n*60*24*3, -1].plot()\n",
    "df.iloc[n*60*24*3:n*60*24*4, -1].plot()\n",
    "df.iloc[n*60*24*4:n*60*24*5, -1].plot()\n",
    "df.iloc[n*60*24*6:n*60*24*7, -1].plot()\n",
    "df.iloc[n*60*24*7:n*60*24*8, -1].plot()\n",
    "plt.title(f'Total energy consumption over {n}th week')\n",
    "plt.legend(loc = 'upper right', labels = ['1st day', '2nd day', '3rd day', '4th day', '5th day', '6th day', '7th day']);"
   ]
  },
  {
   "cell_type": "code",
   "execution_count": null,
   "id": "92b1f4b1",
   "metadata": {},
   "outputs": [],
   "source": [
    "# create a copy of original data frame to do some additional exploration\n",
    "df_new = df.copy()"
   ]
  },
  {
   "cell_type": "markdown",
   "id": "e4c88920",
   "metadata": {},
   "source": [
    "Checking for missing values"
   ]
  },
  {
   "cell_type": "code",
   "execution_count": null,
   "id": "f9ccca87",
   "metadata": {},
   "outputs": [],
   "source": [
    "df_new.isnull().index"
   ]
  },
  {
   "cell_type": "code",
   "execution_count": null,
   "id": "78eeab9a",
   "metadata": {},
   "outputs": [],
   "source": [
    "pd.Series(df[df.isnull()].index.year).value_counts().plot(kind='bar')\n",
    "plt.title('Missing Values by Year')\n",
    "plt.xlabel('Year')\n",
    "plt.ylabel('Number of Missing Values')\n",
    "plt.show()"
   ]
  },
  {
   "cell_type": "code",
   "execution_count": null,
   "id": "9acd5ee6",
   "metadata": {},
   "outputs": [],
   "source": [
    "plt.figure(figsize = (25,10))\n",
    "msno.matrix(df, color=(0.2, 0.4, 0.6));\n",
    "plt.title('Missing Values Matrix', fontweight = 'bold')\n",
    "plt.ylabel('Observations present/missing in data', fontweight = 'bold')\n",
    "plt.xlabel('Variables in the data', fontweight = 'bold')\n",
    "plt.show()\n"
   ]
  },
  {
   "cell_type": "code",
   "execution_count": null,
   "id": "e2fe17a4",
   "metadata": {
    "scrolled": true
   },
   "outputs": [],
   "source": [
    "# Create a heatmap of the missing values\n",
    "sns.heatmap(df.isna(), cmap='YlGnBu', cbar=False);\n",
    "plt.title('Missing Values')\n",
    "plt.xlabel('Columns')\n",
    "plt.ylabel('Date')\n",
    "plt.show()"
   ]
  },
  {
   "cell_type": "markdown",
   "id": "2811d331",
   "metadata": {},
   "source": [
    "Handling missing values"
   ]
  },
  {
   "cell_type": "code",
   "execution_count": null,
   "id": "ed56e4d6",
   "metadata": {},
   "outputs": [],
   "source": [
    "df_new = df_new.fillna(df_new.resample('D').mean().apply('median'))"
   ]
  },
  {
   "cell_type": "markdown",
   "id": "0e345beb",
   "metadata": {},
   "source": [
    "Resampling"
   ]
  },
  {
   "cell_type": "code",
   "execution_count": null,
   "id": "d5582491",
   "metadata": {},
   "outputs": [],
   "source": [
    "df_daily = df_new.resample('D').mean()\n",
    "df_hourly = df_new.resample('H').mean()\n",
    "df_monthly = df_new.resample('M').mean()\n",
    "df_weekly = df_new.resample('W').mean()\n",
    "df_yearly = df_new.resample('Y').mean()"
   ]
  },
  {
   "cell_type": "code",
   "execution_count": null,
   "id": "627ac694",
   "metadata": {},
   "outputs": [],
   "source": [
    "print(df_daily.head(2))\n",
    "print(df_hourly.head(2))\n",
    "print(df_daily.shape, df_hourly.shape)"
   ]
  },
  {
   "cell_type": "code",
   "execution_count": null,
   "id": "f572aff9",
   "metadata": {
    "scrolled": true
   },
   "outputs": [],
   "source": [
    "# plot the col variable for the different resampled versions of the data to see how the resampling affects it.\n",
    "plt.figure(figsize=(20, 20))\n",
    "# use 3 rows and 2 columns of subplots\n",
    "for n, col in enumerate(df.columns):\n",
    "    plt.subplot(4,2,n+1)\n",
    "    # use different colors and line styles for each frequency\n",
    "    plt.plot(df_new[col], color='blue', linestyle='-', label = 'minutely', alpha = 1)\n",
    "    plt.plot(df_hourly[col], color='orange', linestyle='--', label = 'hourly', alpha = 0.8)\n",
    "    plt.plot(df_daily[col], color='green', linestyle='-.', label = 'daily', alpha = 0.5)\n",
    "    plt.plot(df_weekly[col], color='red', linestyle=':', label = 'weekly', alpha = 0.5)\n",
    "    plt.plot(df_monthly[col], color='purple', linestyle='-', label = 'monthly', alpha = 0.5)\n",
    "    plt.plot(df_yearly[col], color='brown', linestyle='--', label = 'yearly', alpha = 0.5)\n",
    "    plt.title(f'Resampling of {col}')\n",
    "    plt.xticks(rotation = 90)\n",
    "    plt.legend(loc='upper right')\n",
    "# add some space between the subplots\n",
    "plt.subplots_adjust(hspace=0.4, wspace=0.2)\n",
    "# adjust the margins and spacing\n",
    "plt.tight_layout()\n",
    "plt.show()"
   ]
  },
  {
   "cell_type": "code",
   "execution_count": null,
   "id": "82741629",
   "metadata": {},
   "outputs": [],
   "source": [
    "# # Create a figure and a grid of subplots\n",
    "# fig, axes = plt.subplots(2, 4)\n",
    "# # Loop over the column names and the axes objects\n",
    "# for col, ax in zip(df.columns, axes.flat):\n",
    "#     # Plot a displot for each column on each subplot\n",
    "#     sns.histplot(data=df, x=col, kde=True, ax=ax)\n",
    "# # Adjust the spacing and show the plot\n",
    "# plt.tight_layout()\n",
    "# plt.show()"
   ]
  },
  {
   "cell_type": "code",
   "execution_count": null,
   "id": "5c307dd3",
   "metadata": {},
   "outputs": [],
   "source": [
    "weekdays = {'Monday': 'Weekday', 'Tuesday': 'Weekday', 'Wednesday': 'Weekday', 'Thursday': 'Weekday', 'Friday': 'Weekday', 'Saturday': 'Weekend', 'Sunday': 'Weekend'}\n",
    "df_new['weekday'] = df.index.day_name().map(weekdays)"
   ]
  },
  {
   "cell_type": "code",
   "execution_count": null,
   "id": "1e859df7",
   "metadata": {},
   "outputs": [],
   "source": [
    "plt.figure(figsize =  (25, 50))\n",
    "n = 5\n",
    "names = ['Global_active_power','total_energy_consumption', 'Sub_metering_1', 'Sub_metering_2', 'Sub_metering_3']\n",
    "for i in range(5):\n",
    "    plt.subplot(5,1,i+1)\n",
    "    sns.boxplot(x = df_new.index.dayofyear, \n",
    "                    y = df_new[names[i]]),\n",
    "    plt.xticks([])\n",
    "    plt.title('Daily Time Series Boxplots of {}'.format(names[i]));"
   ]
  },
  {
   "cell_type": "code",
   "execution_count": null,
   "id": "1dacd327",
   "metadata": {},
   "outputs": [],
   "source": [
    "plt.figure(figsize =  (60, 60))\n",
    "n = 3\n",
    "names = ['Global_active_power','total_energy_consumption', 'Sub_metering_1', 'Sub_metering_2', 'Sub_metering_3']\n",
    "for i in range(n):\n",
    "    plt.subplot(n,1,i+1)\n",
    "    sns.boxplot(x = df_new.index.dayofyear, \n",
    "                y = df_new[names[i]],\n",
    "                hue = df_new['weekday'],\n",
    "                palette = ['white', 'orange'])\n",
    "    plt.xticks([])\n",
    "    plt.title('Daily Time Series Boxplots of {} by Weekday/Weekend'.format(names[i]))\n",
    "plt.show()"
   ]
  },
  {
   "cell_type": "code",
   "execution_count": null,
   "id": "10612388",
   "metadata": {},
   "outputs": [],
   "source": [
    "plt.figure(figsize =  (25, 50))\n",
    "n = 5\n",
    "names = ['Global_active_power','total_energy_consumption', 'Sub_metering_1', 'Sub_metering_2', 'Sub_metering_3']\n",
    "for i in range(5):\n",
    "    plt.subplot(5,1,i+1)\n",
    "    sns.boxplot(x = df_new.index.weekday, \n",
    "                    y = df_new[names[i]]),\n",
    "    plt.xticks(ticks = [0,1,2,3,4,5,6],labels=['Monday', 'Tuesday', 'Wednesday', 'Thursday','Friday', 'Saturday', 'Sunday']),\n",
    "    plt.title('Weekday Time Series Boxplots of {}'.format(names[i])),\n",
    "plt.show()"
   ]
  },
  {
   "cell_type": "code",
   "execution_count": null,
   "id": "fb689e18",
   "metadata": {},
   "outputs": [],
   "source": [
    "plt.figure(figsize =  (25, 50)),\n",
    "n = 5,\n",
    "names = ['Global_active_power','total_energy_consumption', 'Sub_metering_1', 'Sub_metering_2', 'Sub_metering_3']\n",
    "for i in range(5):\n",
    "    plt.subplot(5,1,i+1)\n",
    "    sns.boxplot(x = df_new.index.month, \n",
    "                    y = df_new[names[i]])\n",
    "    plt.xticks(ticks = list(range(12)), labels = ['January', 'February', 'March', 'April', 'May', 'June', 'July', 'August', 'September', 'October', 'November', 'December'])\n",
    "    plt.title('Monthly Time Series Boxplots of {}'.format(names[i]))\n",
    "plt.show()"
   ]
  },
  {
   "cell_type": "code",
   "execution_count": null,
   "id": "e6a3f23f",
   "metadata": {},
   "outputs": [],
   "source": [
    "plt.figure(figsize =  (25, 50))\n",
    "n = 5\n",
    "names = ['Global_active_power','total_energy_consumption', 'Sub_metering_1', 'Sub_metering_2', 'Sub_metering_3']\n",
    "for i in range(5):\n",
    "    plt.subplot(5,1,i+1)\n",
    "    sns.boxplot(x = df_new.index.year, \n",
    "                    y = df_new[names[i]])\n",
    "    plt.xticks(ticks = list(range(5)), labels = ['2006', '2007', '2008', '2009', '2010'])\n",
    "    plt.title('Yearly Time Series Boxplots of {}'.format(names[i]))\n",
    "plt.show()"
   ]
  },
  {
   "cell_type": "code",
   "execution_count": null,
   "id": "38dc2c38",
   "metadata": {},
   "outputs": [],
   "source": [
    "seasons = {1: 'Winter', 2: 'Winter', 3: 'Spring', 4: 'Spring', 5: 'Spring', 6: 'Summer', 7: 'Summer', 8: 'Summer', 9: 'Autumn', 10: 'Autumn', 11: 'Autumn', 12: 'Winter'}\n",
    "df_new['season'] = df.index.month.map(seasons)\n",
    "df_new['year'] = df.index.year"
   ]
  },
  {
   "cell_type": "code",
   "execution_count": null,
   "id": "71ec95a9",
   "metadata": {},
   "outputs": [],
   "source": [
    "plt.figure(figsize =  (25, 50))\n",
    "n = 5\n",
    "names = ['Global_active_power','total_energy_consumption', 'Sub_metering_1', 'Sub_metering_2', 'Sub_metering_3']\n",
    "for i in range(5):\n",
    "    plt.subplot(5,1,i+1)\n",
    "    sns.boxplot(x = df_new['season'],\n",
    "                y = df_new[names[i]],\n",
    "                hue = df_new['year'],\n",
    "                order = ['Winter', 'Spring', 'Summer', 'Autumn'],\n",
    "                hue_order = sorted(df_new['year'].unique()))\n",
    "    plt.title('Seasonal Time Series Boxplots of {} by Year'.format(names[i]))\n",
    "plt.show()"
   ]
  },
  {
   "cell_type": "code",
   "execution_count": null,
   "id": "dfecd3ed",
   "metadata": {
    "scrolled": true
   },
   "outputs": [],
   "source": [
    "plt.figure(figsize =  (25, 50))\n",
    "n = 5\n",
    "names = ['Global_active_power','total_energy_consumption', 'Sub_metering_1', 'Sub_metering_2', 'Sub_metering_3']\n",
    "for i in range(5):\n",
    "    plt.subplot(5,1,i+1)\n",
    "    sns.boxplot(x = df_new['season'], \n",
    "                y = df_new[names[i]],\n",
    "                order = ['Winter', 'Spring', 'Summer', 'Autumn'])\n",
    "    plt.title('Seasonal Time Series Boxplots of {} by Year'.format(names[i]))\n",
    "plt.show()"
   ]
  },
  {
   "cell_type": "code",
   "execution_count": null,
   "id": "61a257e8",
   "metadata": {
    "scrolled": true
   },
   "outputs": [],
   "source": [
    "sns.heatmap(df_new.corr(numeric_only=True), annot=True);\n",
    "plt.title('Correlation plot of Variables')"
   ]
  },
  {
   "cell_type": "code",
   "execution_count": null,
   "id": "c2adc9e9",
   "metadata": {
    "scrolled": true
   },
   "outputs": [],
   "source": [
    "stl = seasonal_decompose(df_new['total_energy_consumption'], period = 60*24*7*4*12)\n",
    "fig = stl.plot()\n",
    "fig.set_size_inches((16, 9))\n",
    "# Tight layout to realign things\n",
    "fig.tight_layout()\n",
    "plt.show()"
   ]
  },
  {
   "cell_type": "code",
   "execution_count": null,
   "id": "9079eaa4",
   "metadata": {
    "scrolled": true
   },
   "outputs": [],
   "source": [
    "stl = seasonal_decompose(df_daily['total_energy_consumption'], period = 7*4*12)\n",
    "fig = stl.plot()\n",
    "fig.set_size_inches((16, 9))\n",
    "# Tight layout to realign things\n",
    "fig.tight_layout()\n",
    "plt.show()"
   ]
  },
  {
   "cell_type": "code",
   "execution_count": null,
   "id": "c4d37ce7",
   "metadata": {},
   "outputs": [],
   "source": [
    "stl = seasonal_decompose(df_hourly['total_energy_consumption'], period = 7*4*12)\n",
    "fig = stl.plot()\n",
    "fig.set_size_inches((16, 9))\n",
    "# Tight layout to realign things\n",
    "fig.tight_layout()\n",
    "plt.show()"
   ]
  },
  {
   "cell_type": "code",
   "execution_count": null,
   "id": "eaee05cc",
   "metadata": {
    "scrolled": false
   },
   "outputs": [],
   "source": [
    "stl = seasonal_decompose(df_weekly['total_energy_consumption'], period = 4*12)\n",
    "fig = stl.plot()\n",
    "fig.set_size_inches((16, 9))\n",
    "# Tight layout to realign things\n",
    "fig.tight_layout()\n",
    "plt.show()"
   ]
  },
  {
   "cell_type": "code",
   "execution_count": null,
   "id": "a84c61d1",
   "metadata": {},
   "outputs": [],
   "source": [
    "stl = seasonal_decompose(df_monthly['total_energy_consumption'], period = 12)\n",
    "fig = stl.plot()\n",
    "fig.set_size_inches((16, 9))\n",
    "# Tight layout to realign things\n",
    "fig.tight_layout()\n",
    "plt.show()"
   ]
  },
  {
   "cell_type": "code",
   "execution_count": null,
   "id": "3dd29614",
   "metadata": {
    "scrolled": true
   },
   "outputs": [],
   "source": [
    "stl = seasonal_decompose(df_yearly['total_energy_consumption'], period = 1)\n",
    "fig = stl.plot()\n",
    "fig.set_size_inches((16, 9))\n",
    "# Tight layout to realign things\n",
    "fig.tight_layout()\n",
    "plt.show()"
   ]
  },
  {
   "cell_type": "code",
   "execution_count": null,
   "id": "c21e4209",
   "metadata": {},
   "outputs": [],
   "source": [
    "import statsmodels.api as sm\n",
    "# Define a function to detect outliers based on standard deviation\n",
    "def detect_outliers(data, threshold=3):\n",
    "    mean = np.mean(data)\n",
    "    std = np.std(data)\n",
    "    outliers = []\n",
    "    for i in range(len(data)):\n",
    "        z_score = (data[i] - mean) / std\n",
    "        if np.abs(z_score) > threshold:\n",
    "            outliers.append(i)\n",
    "    return outliers"
   ]
  },
  {
   "cell_type": "code",
   "execution_count": null,
   "id": "274ab529",
   "metadata": {},
   "outputs": [],
   "source": [
    "# t = df_new.index\n",
    "# y = df_new['total_energy_consumption']\n",
    "\n",
    "# perods = [12, 24, 30]\n",
    "\n",
    "# for i, period in enumerate(periods):\n",
    "    \n",
    "#     plt.subplots(1, 3, i+1)\n",
    "#     # Perform STL decomposition\n",
    "#     stl = STL(y, period=period, robust=True) # Assume a periodicity of 12\n",
    "#     res = stl.fit()\n",
    "#     res.plot() # Plot the decomposition results\n",
    "#     plt.show()\n",
    "\n",
    "#     # Extract the residual component\n",
    "#     resid = res.resid\n",
    "\n",
    "#     # Detect outliers in the residual component\n",
    "#     outliers = detect_outliers(resid)\n",
    "#     # print('Outlier indices:', outliers)\n",
    "\n",
    "#     # Plot the original data with outliers marked\n",
    "#     plt.figure()\n",
    "#     plt.plot(t, y, label='Original data')\n",
    "#     plt.plot(t[outliers], y[outliers], 'ro', label='Outliers')\n",
    "#     plt.legend()\n",
    "    \n",
    "# plt.show()"
   ]
  },
  {
   "cell_type": "code",
   "execution_count": null,
   "id": "6ed2787e",
   "metadata": {},
   "outputs": [],
   "source": [
    "# t = df_hourly.index\n",
    "# y = df_hourly['total_energy_consumption']\n",
    "\n",
    "\n",
    "# perods = [24, 24*7, 24*7*4]\n",
    "\n",
    "# for i, period in enumerate(periods):\n",
    "    \n",
    "#     plt.subplots(1, 3, i+1)\n",
    "    \n",
    "#     # Perform STL decomposition\n",
    "#     stl = STL(y, period=period, robust=True) # Assume a periodicity of 12\n",
    "#     res = stl.fit()\n",
    "#     res.plot() # Plot the decomposition results\n",
    "#     plt.show()\n",
    "\n",
    "#     # Extract the residual component\n",
    "#     resid = res.resid\n",
    "\n",
    "#     outliers = detect_outliers(resid)\n",
    "\n",
    "#     plt.figure()\n",
    "#     plt.plot(t, y, label='hourly')\n",
    "#     plt.plot(t[outliers], y[outliers], 'ro', label='Outliers')\n",
    "#     plt.legend()\n",
    "\n",
    "# plt.show()"
   ]
  },
  {
   "cell_type": "code",
   "execution_count": null,
   "id": "5c5a38f6",
   "metadata": {},
   "outputs": [],
   "source": [
    "t = df_new.index\n",
    "y = df_new['total_energy_consumption']\n",
    "\n",
    "# Perform STL decomposition\n",
    "stl = STL(y, period=60*24, robust=True) # Assume a periodicity of 12\n",
    "res = stl.fit()\n",
    "res.plot() # Plot the decomposition results\n",
    "plt.show()\n",
    "\n",
    "# Extract the residual component\n",
    "resid = res.resid\n",
    "\n",
    "outliers = detect_outliers(resid)\n",
    "\n",
    "plt.figure()\n",
    "plt.plot(t, y, label='Original')\n",
    "plt.plot(t[outliers], y[outliers], 'ro', label='Outliers')\n",
    "plt.legend()\n",
    "plt.show()"
   ]
  },
  {
   "cell_type": "code",
   "execution_count": null,
   "id": "2c1cc2c8",
   "metadata": {
    "scrolled": true
   },
   "outputs": [],
   "source": [
    "t = df_hourly.index\n",
    "y = df_hourly['total_energy_consumption']\n",
    "\n",
    "# Perform STL decomposition\n",
    "stl = STL(y, period=24*7*4, robust=True) # Assume a periodicity of 12\n",
    "res = stl.fit()\n",
    "res.plot() # Plot the decomposition results\n",
    "plt.show()\n",
    "\n",
    "# Extract the residual component\n",
    "resid = res.resid\n",
    "\n",
    "outliers = detect_outliers(resid)\n",
    "\n",
    "plt.figure()\n",
    "plt.plot(t, y, label='hourly')\n",
    "plt.plot(t[outliers], y[outliers], 'ro', label='Outliers')\n",
    "plt.legend()"
   ]
  },
  {
   "cell_type": "code",
   "execution_count": null,
   "id": "135c47aa",
   "metadata": {},
   "outputs": [],
   "source": [
    "t = df_daily.index\n",
    "y = df_daily['total_energy_consumption']\n",
    "\n",
    "# Perform STL decomposition\n",
    "stl = STL(y, period=7*4*12, robust=True) # Assume a periodicity of 12\n",
    "res = stl.fit()\n",
    "res.plot() # Plot the decomposition results\n",
    "plt.show()\n",
    "\n",
    "# Extract the residual component\n",
    "resid = res.resid\n",
    "\n",
    "outliers = detect_outliers(resid)\n",
    "\n",
    "plt.figure()\n",
    "plt.plot(t, y, label='daily')\n",
    "plt.plot(t[outliers], y[outliers], 'ro', label='Outliers')\n",
    "plt.legend()\n",
    "plt.show()"
   ]
  },
  {
   "cell_type": "code",
   "execution_count": null,
   "id": "37021a4b",
   "metadata": {},
   "outputs": [],
   "source": [
    "t = df_hourly.index\n",
    "y = df_hourly['total_energy_consumption']\n",
    "\n",
    "# Perform STL decomposition\n",
    "stl = STL(y, period=30, robust=True) # Assume a periodicity of 12\n",
    "res = stl.fit()\n",
    "res.plot() # Plot the decomposition results\n",
    "plt.show()\n",
    "\n",
    "# Extract the residual component\n",
    "resid = res.resid\n",
    "\n",
    "outliers = detect_outliers(resid)\n",
    "\n",
    "plt.figure()\n",
    "plt.plot(t, y, label='hourly')\n",
    "plt.plot(t[outliers], y[outliers], 'ro', label='Outliers')\n",
    "plt.legend()\n",
    "plt.show()"
   ]
  },
  {
   "cell_type": "code",
   "execution_count": null,
   "id": "d63cc79a",
   "metadata": {},
   "outputs": [],
   "source": [
    "t = df_daily.index\n",
    "y = df_daily['total_energy_consumption']\n",
    "\n",
    "# Perform STL decomposition\n",
    "stl = STL(y, period=30, robust=True) # Assume a periodicity of 12\n",
    "res = stl.fit()\n",
    "res.plot() # Plot the decomposition results\n",
    "plt.show()\n",
    "\n",
    "# Extract the residual component\n",
    "resid = res.resid\n",
    "\n",
    "outliers = detect_outliers(resid)\n",
    "\n",
    "plt.figure()\n",
    "plt.plot(t, y, label='daily')\n",
    "plt.plot(t[outliers], y[outliers], 'ro', label='Outliers')\n",
    "plt.legend()\n",
    "plt.show()"
   ]
  },
  {
   "cell_type": "code",
   "execution_count": null,
   "id": "b9f8e2ff",
   "metadata": {},
   "outputs": [],
   "source": [
    "t = df_weekly.index\n",
    "y = df_weekly['total_energy_consumption']\n",
    "\n",
    "# Perform STL decomposition\n",
    "stl = STL(y, period=30, robust=True) # Assume a periodicity of 12\n",
    "res = stl.fit()\n",
    "res.plot() # Plot the decomposition results\n",
    "plt.show()\n",
    "\n",
    "# Extract the residual component\n",
    "resid = res.resid\n",
    "\n",
    "outliers = detect_outliers(resid)\n",
    "\n",
    "plt.figure()\n",
    "plt.plot(t, y, label='weekly')\n",
    "plt.plot(t[outliers], y[outliers], 'ro', label='Outliers')\n",
    "plt.legend()\n",
    "plt.show()"
   ]
  },
  {
   "cell_type": "code",
   "execution_count": null,
   "id": "2a856dcf",
   "metadata": {},
   "outputs": [],
   "source": [
    "t = df_monthly.index\n",
    "y = df_monthly['total_energy_consumption']\n",
    "\n",
    "# Perform STL decomposition\n",
    "stl = STL(y, period=30, robust=True) # Assume a periodicity of 12\n",
    "res = stl.fit()\n",
    "res.plot() # Plot the decomposition results\n",
    "plt.show()\n",
    "\n",
    "# Extract the residual component\n",
    "resid = res.resid\n",
    "\n",
    "outliers = detect_outliers(resid)\n",
    "\n",
    "plt.figure()\n",
    "plt.plot(t, y, label='monthly')\n",
    "plt.plot(t[outliers], y[outliers], 'ro', label='Outliers')\n",
    "plt.legend()\n",
    "plt.show()"
   ]
  },
  {
   "cell_type": "code",
   "execution_count": null,
   "id": "e0f0ec59",
   "metadata": {
    "scrolled": true
   },
   "outputs": [],
   "source": [
    "t = df_weekly.index\n",
    "y = df_weekly['total_energy_consumption']\n",
    "\n",
    "periods = [24*7, 24*7*4, 24*30]\n",
    "\n",
    "# Create a 1x3 subplot layout\n",
    "fig, ax = plt.subplots(1, 3)\n",
    "\n",
    "for i, period in enumerate(periods):\n",
    "    \n",
    "    # Perform STL decomposition with robust=True\n",
    "    res = STL(y, period=period, robust=True).fit()\n",
    "    \n",
    "    # Plot the decomposition results in the i-th subplot\n",
    "    # Plot the trend component in the i-th subplot\n",
    "    ax[i].plot(res.trend, label='Trend')\n",
    "    # Plot the seasonal component in the same subplot\n",
    "    ax[i].plot(res.seasonal, label='Seasonal')\n",
    "    # Plot the residual component in the same subplot\n",
    "    ax[i].plot(res.resid,'o', label='Residual')\n",
    "    # Add a legend to the subplot\n",
    "    ax[i].legend()\n",
    "\n",
    "    \n",
    "    # Extract the residual component and detect outliers\n",
    "    resid = res.resid\n",
    "    outliers = detect_outliers(resid)\n",
    "\n",
    "    # Plot the original data and the outliers in the same subplot\n",
    "    ax[i].plot(t, y, label='weekly')\n",
    "    ax[i].plot(t[outliers], y[outliers], 'ro', label='Outliers')\n",
    "    ax[i].legend()\n"
   ]
  },
  {
   "cell_type": "code",
   "execution_count": null,
   "id": "56f60ea3",
   "metadata": {},
   "outputs": [],
   "source": [
    "# Create a figure with specified size\n",
    "fig = plt.figure(figsize=(22,20))\n",
    "# Adjust the subplot spacing\n",
    "fig.subplots_adjust(hspace=1)\n",
    "\n",
    "# Create first subplot\n",
    "ax1 = fig.add_subplot(5,1,1)\n",
    "# Plot the resampled mean of Global_active_power over day with different color\n",
    "ax1.plot(df['Global_active_power'].resample('D').mean(), linewidth=1, color='purple')\n",
    "# Set the title for the subplot\n",
    "ax1.set_title('Mean Global active power resampled over day')\n",
    "# Set major tick parameters for the subplot\n",
    "ax1.tick_params(axis='both', which='major')\n",
    "\n",
    "# Create second subplot\n",
    "ax2 = fig.add_subplot(5,1,2, sharex=ax1)\n",
    "# Plot the resampled mean of Global_active_power over week with different color\n",
    "ax2.plot(df['Global_active_power'].resample('W').mean(), linewidth=1, color='purple')\n",
    "# Set the title for the subplot\n",
    "ax2.set_title('Mean Global active power resampled over week')\n",
    "# Set major tick parameters for the subplot\n",
    "ax2.tick_params(axis='both', which='major')\n",
    "\n",
    "# Create third subplot\n",
    "ax3 = fig.add_subplot(5,1,3, sharex=ax1)\n",
    "# Plot the resampled mean of Global_active_power over month with different color\n",
    "ax3.plot(df['Global_active_power'].resample('M').mean(), linewidth=1, color='purple')\n",
    "# Set the title for the subplot\n",
    "ax3.set_title('Mean Global active power resampled over month')\n",
    "# Set major tick parameters for the subplot\n",
    "ax3.tick_params(axis='both', which='major')\n",
    "\n",
    "# Create third subplot\n",
    "ax4  = fig.add_subplot(5,1,4, sharex=ax1)\n",
    "# Plot the resampled mean of Global_active_power over month with different color\n",
    "ax4.plot(df['Global_active_power'].resample('Q').mean(),linewidth=1, color='purple')\n",
    "# Set the title for the subplot\n",
    "ax4.set_title('Mean Global active power resampled over quarter')\n",
    "# Set major tick parameters for the subplot\n",
    "ax4.tick_params(axis='both', which='major')\n",
    "\n",
    "\n",
    "# Create third subplot\n",
    "ax5  = fig.add_subplot(5,1,5, sharex=ax1)\n",
    "# Plot the resampled mean of Global_active_power over month with different color\n",
    "ax5.plot(df['Global_active_power'].resample('A').mean(),linewidth=1, color='purple')\n",
    "# Set the title for the subplot\n",
    "ax5.set_title('Mean Global active power resampled over year')\n",
    "# Set major tick parameters for the subplot\n",
    "ax5.tick_params(axis='both', which='major')"
   ]
  },
  {
   "cell_type": "code",
   "execution_count": null,
   "id": "24347f45",
   "metadata": {
    "scrolled": true
   },
   "outputs": [],
   "source": [
    "# Create a figure with specified size\n",
    "fig = plt.figure(figsize=(22,20))\n",
    "# Adjust the subplot spacing\n",
    "fig.subplots_adjust(hspace=1)\n",
    "\n",
    "# Create first subplot\n",
    "ax1 = fig.add_subplot(5,1,1)\n",
    "# Plot the resampled mean of total_energy_consumption over day with different color\n",
    "ax1.plot(df['total_energy_consumption'].resample('D').mean(), linewidth=1, color='purple')\n",
    "# Set the title for the subplot\n",
    "ax1.set_title('Mean Total energy consumption resampled over day')\n",
    "# Set major tick parameters for the subplot\n",
    "ax1.tick_params(axis='both', which='major')\n",
    "\n",
    "# Create second subplot\n",
    "ax2 = fig.add_subplot(5,1,2, sharex=ax1)\n",
    "# Plot the resampled mean of total_energy_consumption over week with different color\n",
    "ax2.plot(df['total_energy_consumption'].resample('W').mean(), linewidth=1, color='purple')\n",
    "# Set the title for the subplot\n",
    "ax2.set_title('Mean Total energy consumption resampled over week')\n",
    "# Set major tick parameters for the subplot\n",
    "ax2.tick_params(axis='both', which='major')\n",
    "\n",
    "# Create third subplot\n",
    "ax3 = fig.add_subplot(5,1,3, sharex=ax1)\n",
    "# Plot the resampled mean of total_energy_consumption over month with different color\n",
    "ax3.plot(df['total_energy_consumption'].resample('M').mean(), linewidth=1, color='purple')\n",
    "# Set the title for the subplot\n",
    "ax3.set_title('Mean Total energy consumption resampled over month')\n",
    "# Set major tick parameters for the subplot\n",
    "ax3.tick_params(axis='both', which='major')\n",
    "\n",
    "# Create third subplot\n",
    "ax4  = fig.add_subplot(5,1,4, sharex=ax1)\n",
    "# Plot the resampled mean of total_energy_consumption over month with different color\n",
    "ax4.plot(df['total_energy_consumption'].resample('Q').mean(),linewidth=1, color='purple')\n",
    "# Set the title for the subplot\n",
    "ax4.set_title('Mean Total energy consumption resampled over quarter')\n",
    "# Set major tick parameters for the subplot\n",
    "ax4.tick_params(axis='both', which='major')\n",
    "\n",
    "\n",
    "# Create third subplot\n",
    "ax5  = fig.add_subplot(5,1,5, sharex=ax1)\n",
    "# Plot the resampled mean of total_energy_consumption over month with different color\n",
    "ax5.plot(df['total_energy_consumption'].resample('A').mean(),linewidth=1, color='purple')\n",
    "# Set the title for the subplot\n",
    "ax5.set_title('Mean Total energy consumption resampled over year')\n",
    "# Set major tick parameters for the subplot\n",
    "ax5.tick_params(axis='both', which='major')"
   ]
  },
  {
   "cell_type": "code",
   "execution_count": null,
   "id": "be3d82a4",
   "metadata": {},
   "outputs": [],
   "source": [
    "df.columns\n",
    "numerical_cols = ['Global_active_power', 'Global_reactive_power', 'Voltage','Global_intensity', 'Sub_metering_1', 'Sub_metering_2','Sub_metering_3', 'total_energy_consumption', 'year']\n",
    "for col in numerical_cols:\n",
    "# Create a figure with specified size\n",
    "    fig = plt.figure(figsize=(22,20))\n",
    "    # Adjust the subplot spacing\n",
    "    fig.subplots_adjust(hspace=1)\n",
    "\n",
    "    # Create first subplot\n",
    "    ax1 = fig.add_subplot(5,1,1)\n",
    "    # Plot the resampled mean of total_energy_consumption over day with different color\n",
    "    ax1.plot(df[col].resample('D').mean(), linewidth=1, color='purple')\n",
    "    # Set the title for the subplot\n",
    "    ax1.set_title('Mean ' + col + ' resampled over day')\n",
    "    # Set major tick parameters for the subplot\n",
    "    ax1.tick_params(axis='both', which='major')\n",
    "\n",
    "    # Create second subplot\n",
    "    ax2 = fig.add_subplot(5,1,2, sharex=ax1)\n",
    "    # Plot the resampled mean of total_energy_consumption over week with different color\n",
    "    ax2.plot(df[col].resample('W').mean(), linewidth=1, color='purple')\n",
    "    # Set the title for the subplot\n",
    "    ax2.set_title('Mean ' + col + ' resampled over week')\n",
    "    # Set major tick parameters for the subplot\n",
    "    ax2.tick_params(axis='both', which='major')\n",
    "\n",
    "    # Create third subplot\n",
    "    ax3 = fig.add_subplot(5,1,3, sharex=ax1)\n",
    "    # Plot the resampled mean of total_energy_consumption over month with different color\n",
    "    ax3.plot(df[col].resample('M').mean(), linewidth=1, color='purple')\n",
    "    # Set the title for the subplot\n",
    "    ax3.set_title('Mean ' + col + ' resampled over month')\n",
    "    # Set major tick parameters for the subplot\n",
    "    ax3.tick_params(axis='both', which='major')\n",
    "\n",
    "    # Create third subplot\n",
    "    ax4  = fig.add_subplot(5,1,4, sharex=ax1)\n",
    "    # Plot the resampled mean of total_energy_consumption over month with different color\n",
    "    ax4.plot(df[col].resample('Q').mean(),linewidth=1, color='purple')\n",
    "    # Set the title for the subplot\n",
    "    ax4.set_title('Mean ' + col + ' resampled over quarter')\n",
    "    # Set major tick parameters for the subplot\n",
    "    ax4.tick_params(axis='both', which='major')\n",
    "\n",
    "\n",
    "    # Create third subplot\n",
    "    ax5  = fig.add_subplot(5,1,5, sharex=ax1)\n",
    "    # Plot the resampled mean of total_energy_consumption over month with different color\n",
    "    ax5.plot(df[col].resample('A').mean(),linewidth=1, color='purple')\n",
    "    # Set the title for the subplot\n",
    "    ax5.set_title('Mean ' + col + ' resampled over year')\n",
    "    # Set major tick parameters for the subplot\n",
    "    ax5.tick_params(axis='both', which='major')"
   ]
  },
  {
   "cell_type": "code",
   "execution_count": null,
   "id": "4b18be73",
   "metadata": {},
   "outputs": [],
   "source": [
    "# n = 60\n",
    "for i, col in enumerate(numerical_cols):\n",
    "    stl = STL(df[col], period=n, robust=True)\n",
    "    res_robust = stl.fit()\n",
    "    fig = res_robust.plot()\n",
    "    res_non_robust = STL(df[col], period=n, robust=False).fit()\n",
    "    fig2 = res_non_robust.plot()"
   ]
  },
  {
   "cell_type": "markdown",
   "id": "753936ca",
   "metadata": {},
   "source": [
    "# Data Pretreatment"
   ]
  },
  {
   "cell_type": "code",
   "execution_count": null,
   "id": "24dacbb3",
   "metadata": {},
   "outputs": [],
   "source": [
    "# series = read_csv('daily-minimum-temperatures.csv', header=0, index_col=0)\n",
    "# plot_acf(series, lags=50)\n",
    "# plt.show()\n",
    "# plot_pacf(series, lags=50)\n",
    "# plt.show()"
   ]
  },
  {
   "cell_type": "code",
   "execution_count": null,
   "id": "a3b832a3",
   "metadata": {},
   "outputs": [],
   "source": [
    "y = df_new['total_energy_consumption']\n",
    "X = df_new.drop('total_energy_consumption', axis=1)"
   ]
  }
 ],
 "metadata": {
  "kernelspec": {
   "display_name": "Python 3 (ipykernel)",
   "language": "python",
   "name": "python3"
  },
  "language_info": {
   "codemirror_mode": {
    "name": "ipython",
    "version": 3
   },
   "file_extension": ".py",
   "mimetype": "text/x-python",
   "name": "python",
   "nbconvert_exporter": "python",
   "pygments_lexer": "ipython3",
   "version": "3.11.4"
  }
 },
 "nbformat": 4,
 "nbformat_minor": 5
}
